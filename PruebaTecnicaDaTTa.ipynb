{
 "cells": [
  {
   "cell_type": "markdown",
   "metadata": {},
   "source": [
    "<h1><center><font size=\"6\">Prueba Técnica DATTA</font></center></h1>\n",
    "\n",
    "# <a id='0'>Contenido</a>\n",
    "\n",
    "- <a href='#1'>1. Introducción</a>  \n",
    "- <a href='#2'>2. Cargar base de datos</a>   \n",
    "- <a href='#3'>3. Limpieza de datos</a>\n",
    "- <a href='#4'>4. Análisis Exploratorio de Datos</a>\n",
    "- <a href='#5'>5. Ingeniería de Características</a>\n",
    "- <a href='#6'>6. Creación de modelos de predicción de riesgo</a>\n",
    "- <a href='#7'>7. Evaluacion y predicción</a>\n",
    "- <a href='#8'>8. Simulación del nivel de riesgo</a>\n",
    "- <a href='#9'>9. Conclusiones</a>"
   ]
  },
  {
   "cell_type": "markdown",
   "metadata": {},
   "source": [
    "# <a id=\"1\">1. Introducción</a>"
   ]
  },
  {
   "cell_type": "markdown",
   "metadata": {},
   "source": [
    "Creación de un modelo de riesgo crediticio donde se puede simular el nivel de riesgo que representa el préstamo de cierta cantidad de dinero para una persona natural.   "
   ]
  },
  {
   "cell_type": "markdown",
   "metadata": {},
   "source": [
    "# <a id=\"2\">2. Cargar base de datos</a>"
   ]
  },
  {
   "cell_type": "markdown",
   "metadata": {},
   "source": [
    "En esta sección se cargará la base de datos utilizada para la creación del modelo de riesgo y la simulación. La base de datos utilizada se encuentra en el siguiente [link](https://www.kaggle.com/uciml/german-credit)."
   ]
  },
  {
   "cell_type": "code",
   "execution_count": 1,
   "metadata": {},
   "outputs": [],
   "source": [
    "import pandas as pd # procesamiento de datos, CSV file I/O (ejemplo. pd.read_csv)\n",
    "import numpy as np # manejar matrices\n",
    "import matplotlib as mlp  # graficar data\n",
    "import matplotlib.pyplot as plt  # graficar data\n",
    "import seaborn as sns # graficar data"
   ]
  },
  {
   "cell_type": "code",
   "execution_count": 2,
   "metadata": {
    "_cell_guid": "79c7e3d0-c299-4dcb-8224-4455121ee9b0",
    "_uuid": "d629ff2d2480ee46fbb7e2d37f6b5fab8052498a"
   },
   "outputs": [
    {
     "data": {
      "text/html": [
       "<div>\n",
       "<style scoped>\n",
       "    .dataframe tbody tr th:only-of-type {\n",
       "        vertical-align: middle;\n",
       "    }\n",
       "\n",
       "    .dataframe tbody tr th {\n",
       "        vertical-align: top;\n",
       "    }\n",
       "\n",
       "    .dataframe thead th {\n",
       "        text-align: right;\n",
       "    }\n",
       "</style>\n",
       "<table border=\"1\" class=\"dataframe\">\n",
       "  <thead>\n",
       "    <tr style=\"text-align: right;\">\n",
       "      <th></th>\n",
       "      <th>Age</th>\n",
       "      <th>Sex</th>\n",
       "      <th>Job</th>\n",
       "      <th>Housing</th>\n",
       "      <th>Saving accounts</th>\n",
       "      <th>Checking account</th>\n",
       "      <th>Credit amount</th>\n",
       "      <th>Duration</th>\n",
       "      <th>Purpose</th>\n",
       "      <th>Risk</th>\n",
       "    </tr>\n",
       "  </thead>\n",
       "  <tbody>\n",
       "    <tr>\n",
       "      <th>0</th>\n",
       "      <td>67</td>\n",
       "      <td>male</td>\n",
       "      <td>2</td>\n",
       "      <td>own</td>\n",
       "      <td>NaN</td>\n",
       "      <td>little</td>\n",
       "      <td>1169</td>\n",
       "      <td>6</td>\n",
       "      <td>radio/TV</td>\n",
       "      <td>good</td>\n",
       "    </tr>\n",
       "    <tr>\n",
       "      <th>1</th>\n",
       "      <td>22</td>\n",
       "      <td>female</td>\n",
       "      <td>2</td>\n",
       "      <td>own</td>\n",
       "      <td>little</td>\n",
       "      <td>moderate</td>\n",
       "      <td>5951</td>\n",
       "      <td>48</td>\n",
       "      <td>radio/TV</td>\n",
       "      <td>bad</td>\n",
       "    </tr>\n",
       "    <tr>\n",
       "      <th>2</th>\n",
       "      <td>49</td>\n",
       "      <td>male</td>\n",
       "      <td>1</td>\n",
       "      <td>own</td>\n",
       "      <td>little</td>\n",
       "      <td>NaN</td>\n",
       "      <td>2096</td>\n",
       "      <td>12</td>\n",
       "      <td>education</td>\n",
       "      <td>good</td>\n",
       "    </tr>\n",
       "    <tr>\n",
       "      <th>3</th>\n",
       "      <td>45</td>\n",
       "      <td>male</td>\n",
       "      <td>2</td>\n",
       "      <td>free</td>\n",
       "      <td>little</td>\n",
       "      <td>little</td>\n",
       "      <td>7882</td>\n",
       "      <td>42</td>\n",
       "      <td>furniture/equipment</td>\n",
       "      <td>good</td>\n",
       "    </tr>\n",
       "    <tr>\n",
       "      <th>4</th>\n",
       "      <td>53</td>\n",
       "      <td>male</td>\n",
       "      <td>2</td>\n",
       "      <td>free</td>\n",
       "      <td>little</td>\n",
       "      <td>little</td>\n",
       "      <td>4870</td>\n",
       "      <td>24</td>\n",
       "      <td>car</td>\n",
       "      <td>bad</td>\n",
       "    </tr>\n",
       "  </tbody>\n",
       "</table>\n",
       "</div>"
      ],
      "text/plain": [
       "   Age     Sex  Job Housing Saving accounts Checking account  Credit amount  \\\n",
       "0   67    male    2     own             NaN           little           1169   \n",
       "1   22  female    2     own          little         moderate           5951   \n",
       "2   49    male    1     own          little              NaN           2096   \n",
       "3   45    male    2    free          little           little           7882   \n",
       "4   53    male    2    free          little           little           4870   \n",
       "\n",
       "   Duration              Purpose  Risk  \n",
       "0         6             radio/TV  good  \n",
       "1        48             radio/TV   bad  \n",
       "2        12            education  good  \n",
       "3        42  furniture/equipment  good  \n",
       "4        24                  car   bad  "
      ]
     },
     "execution_count": 2,
     "metadata": {},
     "output_type": "execute_result"
    }
   ],
   "source": [
    "df = pd.read_csv(r\"C:\\Users\\user\\Desktop\\Profundización DS\\Interview at Globant\\german_credit_data.csv\", index_col=0)\n",
    "df.head()"
   ]
  },
  {
   "cell_type": "markdown",
   "metadata": {},
   "source": [
    "Se renombran las columnas para faciliar su entendimiento."
   ]
  },
  {
   "cell_type": "code",
   "execution_count": 3,
   "metadata": {},
   "outputs": [
    {
     "data": {
      "text/html": [
       "<div>\n",
       "<style scoped>\n",
       "    .dataframe tbody tr th:only-of-type {\n",
       "        vertical-align: middle;\n",
       "    }\n",
       "\n",
       "    .dataframe tbody tr th {\n",
       "        vertical-align: top;\n",
       "    }\n",
       "\n",
       "    .dataframe thead th {\n",
       "        text-align: right;\n",
       "    }\n",
       "</style>\n",
       "<table border=\"1\" class=\"dataframe\">\n",
       "  <thead>\n",
       "    <tr style=\"text-align: right;\">\n",
       "      <th></th>\n",
       "      <th>Edad</th>\n",
       "      <th>Genero</th>\n",
       "      <th>Trabajo</th>\n",
       "      <th>Alojamiento</th>\n",
       "      <th>CuentasAhorro</th>\n",
       "      <th>CuentasCheques</th>\n",
       "      <th>CantidadSolicitada</th>\n",
       "      <th>Duracion</th>\n",
       "      <th>Proposito</th>\n",
       "      <th>Riesgo</th>\n",
       "    </tr>\n",
       "  </thead>\n",
       "  <tbody>\n",
       "    <tr>\n",
       "      <th>533</th>\n",
       "      <td>26</td>\n",
       "      <td>male</td>\n",
       "      <td>2</td>\n",
       "      <td>own</td>\n",
       "      <td>moderate</td>\n",
       "      <td>NaN</td>\n",
       "      <td>1311</td>\n",
       "      <td>24</td>\n",
       "      <td>radio/TV</td>\n",
       "      <td>good</td>\n",
       "    </tr>\n",
       "    <tr>\n",
       "      <th>445</th>\n",
       "      <td>41</td>\n",
       "      <td>female</td>\n",
       "      <td>1</td>\n",
       "      <td>rent</td>\n",
       "      <td>NaN</td>\n",
       "      <td>NaN</td>\n",
       "      <td>1244</td>\n",
       "      <td>9</td>\n",
       "      <td>education</td>\n",
       "      <td>good</td>\n",
       "    </tr>\n",
       "    <tr>\n",
       "      <th>852</th>\n",
       "      <td>35</td>\n",
       "      <td>male</td>\n",
       "      <td>2</td>\n",
       "      <td>free</td>\n",
       "      <td>little</td>\n",
       "      <td>NaN</td>\n",
       "      <td>1471</td>\n",
       "      <td>15</td>\n",
       "      <td>radio/TV</td>\n",
       "      <td>good</td>\n",
       "    </tr>\n",
       "    <tr>\n",
       "      <th>142</th>\n",
       "      <td>27</td>\n",
       "      <td>male</td>\n",
       "      <td>3</td>\n",
       "      <td>own</td>\n",
       "      <td>little</td>\n",
       "      <td>little</td>\n",
       "      <td>3416</td>\n",
       "      <td>27</td>\n",
       "      <td>radio/TV</td>\n",
       "      <td>good</td>\n",
       "    </tr>\n",
       "    <tr>\n",
       "      <th>621</th>\n",
       "      <td>32</td>\n",
       "      <td>male</td>\n",
       "      <td>2</td>\n",
       "      <td>own</td>\n",
       "      <td>little</td>\n",
       "      <td>NaN</td>\n",
       "      <td>1530</td>\n",
       "      <td>18</td>\n",
       "      <td>car</td>\n",
       "      <td>bad</td>\n",
       "    </tr>\n",
       "  </tbody>\n",
       "</table>\n",
       "</div>"
      ],
      "text/plain": [
       "     Edad  Genero  Trabajo Alojamiento CuentasAhorro CuentasCheques  \\\n",
       "533    26    male        2         own      moderate            NaN   \n",
       "445    41  female        1        rent           NaN            NaN   \n",
       "852    35    male        2        free        little            NaN   \n",
       "142    27    male        3         own        little         little   \n",
       "621    32    male        2         own        little            NaN   \n",
       "\n",
       "     CantidadSolicitada  Duracion  Proposito Riesgo  \n",
       "533                1311        24   radio/TV   good  \n",
       "445                1244         9  education   good  \n",
       "852                1471        15   radio/TV   good  \n",
       "142                3416        27   radio/TV   good  \n",
       "621                1530        18        car    bad  "
      ]
     },
     "execution_count": 3,
     "metadata": {},
     "output_type": "execute_result"
    }
   ],
   "source": [
    "df.columns = ['Edad','Genero','Trabajo','Alojamiento','CuentasAhorro','CuentasCheques','CantidadSolicitada','Duracion','Proposito','Riesgo']\n",
    "df.sample(5)"
   ]
  },
  {
   "cell_type": "markdown",
   "metadata": {},
   "source": [
    "1. Edad (variable numérica)\n",
    "1. Genero (texto: hombre, mujer)\n",
    "1. Trabajo (variable numérica: 0 - unskilled and non-resident, 1 - unskilled and resident, 2 - skilled, 3 - highly skilled)\n",
    "1. Alojamiento (texto: own, rent, or free)\n",
    "1. Cuentas de Ahorro (texto: little, moderate, quite rich, rich)\n",
    "1. Cuentas de Cheque (texto: little, moderate, rich)\n",
    "1. Cantidad Prestada o Solicitada (variable numérica)\n",
    "1. Duration (variable numérica, en meses)\n",
    "1. Propósito del prestamo (texto: car, furniture/equipment, radio/TV, domestic appliances, repairs, education, business, vacation/others\n",
    "1. Riesgo (Variable objetivo - Bueno o Malo)"
   ]
  },
  {
   "cell_type": "code",
   "execution_count": 4,
   "metadata": {},
   "outputs": [
    {
     "name": "stdout",
     "output_type": "stream",
     "text": [
      "<class 'pandas.core.frame.DataFrame'>\n",
      "Int64Index: 1000 entries, 0 to 999\n",
      "Data columns (total 10 columns):\n",
      " #   Column              Non-Null Count  Dtype \n",
      "---  ------              --------------  ----- \n",
      " 0   Edad                1000 non-null   int64 \n",
      " 1   Genero              1000 non-null   object\n",
      " 2   Trabajo             1000 non-null   int64 \n",
      " 3   Alojamiento         1000 non-null   object\n",
      " 4   CuentasAhorro       817 non-null    object\n",
      " 5   CuentasCheques      606 non-null    object\n",
      " 6   CantidadSolicitada  1000 non-null   int64 \n",
      " 7   Duracion            1000 non-null   int64 \n",
      " 8   Proposito           1000 non-null   object\n",
      " 9   Riesgo              1000 non-null   object\n",
      "dtypes: int64(4), object(6)\n",
      "memory usage: 85.9+ KB\n"
     ]
    }
   ],
   "source": [
    "df.info()"
   ]
  },
  {
   "cell_type": "markdown",
   "metadata": {},
   "source": [
    "<a href=\"#0\"><font size=\"1\">Volver al inicio</font></a>\n",
    "\n",
    "# <a id=\"3\">3. Limpieza de Datos</a>"
   ]
  },
  {
   "cell_type": "markdown",
   "metadata": {},
   "source": [
    "A continuación, Se revisa la cantidad de valores faltantes en la matriz."
   ]
  },
  {
   "cell_type": "code",
   "execution_count": 5,
   "metadata": {},
   "outputs": [
    {
     "data": {
      "text/plain": [
       "Edad                    0\n",
       "Genero                  0\n",
       "Trabajo                 0\n",
       "Alojamiento             0\n",
       "CuentasAhorro         183\n",
       "CuentasCheques        394\n",
       "CantidadSolicitada      0\n",
       "Duracion                0\n",
       "Proposito               0\n",
       "Riesgo                  0\n",
       "dtype: int64"
      ]
     },
     "execution_count": 5,
     "metadata": {},
     "output_type": "execute_result"
    }
   ],
   "source": [
    "df.isnull().sum()"
   ]
  },
  {
   "cell_type": "markdown",
   "metadata": {},
   "source": [
    "Ya que cuentas de ahorro y de cheques tienen valores nulos, se trabaja bajo la hipótesis de que la variable de poco/little se da a partir de más de una cuenta de dicho tipo. Por lo que los valores nulos representan registros que no disponen de cuentas en la entidad prestamista. Se llenaran con el texto None/Ninguna cuenta."
   ]
  },
  {
   "cell_type": "code",
   "execution_count": 6,
   "metadata": {},
   "outputs": [
    {
     "data": {
      "text/plain": [
       "99"
      ]
     },
     "execution_count": 6,
     "metadata": {},
     "output_type": "execute_result"
    }
   ],
   "source": [
    "df.fillna('none',inplace=True)\n",
    "dfc = df[(df.CuentasCheques == 'none') & (df.CuentasAhorro == 'none')]\n",
    "dfc.shape[0]"
   ]
  },
  {
   "cell_type": "markdown",
   "metadata": {},
   "source": [
    "99 registros no cuentan con ningún tipo de cuenta."
   ]
  },
  {
   "cell_type": "markdown",
   "metadata": {},
   "source": [
    "# <a href=\"#0\"><font size=\"1\">Volver al inicio</font></a>\n",
    "\n",
    "# <a id=\"4\">4. Análisis Exploratorio de Datos</a>"
   ]
  },
  {
   "cell_type": "markdown",
   "metadata": {},
   "source": [
    "A continuación, se revisan las columnas cuyos datos son varibles tipo texto o categóricas."
   ]
  },
  {
   "cell_type": "code",
   "execution_count": 7,
   "metadata": {},
   "outputs": [
    {
     "name": "stdout",
     "output_type": "stream",
     "text": [
      "male      690\n",
      "female    310\n",
      "Name: Genero, dtype: int64 \n",
      "\n",
      "own     713\n",
      "rent    179\n",
      "free    108\n",
      "Name: Alojamiento, dtype: int64 \n",
      "\n",
      "little        603\n",
      "none          183\n",
      "moderate      103\n",
      "quite rich     63\n",
      "rich           48\n",
      "Name: CuentasAhorro, dtype: int64 \n",
      "\n",
      "none        394\n",
      "little      274\n",
      "moderate    269\n",
      "rich         63\n",
      "Name: CuentasCheques, dtype: int64 \n",
      "\n",
      "car                    337\n",
      "radio/TV               280\n",
      "furniture/equipment    181\n",
      "business                97\n",
      "education               59\n",
      "repairs                 22\n",
      "vacation/others         12\n",
      "domestic appliances     12\n",
      "Name: Proposito, dtype: int64 \n",
      "\n",
      "good    700\n",
      "bad     300\n",
      "Name: Riesgo, dtype: int64 \n",
      "\n"
     ]
    }
   ],
   "source": [
    "cat_cols = [col for col in df.columns if df[col].dtypes == 'O']\n",
    "\n",
    "for col in cat_cols:\n",
    "    print(df[col].value_counts(), \"\\n\")"
   ]
  },
  {
   "cell_type": "code",
   "execution_count": 8,
   "metadata": {},
   "outputs": [
    {
     "data": {
      "text/plain": [
       "<AxesSubplot:>"
      ]
     },
     "execution_count": 8,
     "metadata": {},
     "output_type": "execute_result"
    },
    {
     "data": {
      "image/png": "[encoded data removed]",
      "text/plain": [
       "<Figure size 432x288 with 1 Axes>"
      ]
     },
     "metadata": {
      "needs_background": "light"
     },
     "output_type": "display_data"
    }
   ],
   "source": [
    "df.Riesgo.value_counts().plot(kind='bar')"
   ]
  },
  {
   "cell_type": "markdown",
   "metadata": {},
   "source": [
    "Alrededor de un 70% de las personas que realizó un préstamo realizó cumplidamente sus pagos. Es decir, que la mayoría de registros corresponde a buenos prestatarios. "
   ]
  },
  {
   "cell_type": "code",
   "execution_count": 9,
   "metadata": {},
   "outputs": [
    {
     "data": {
      "text/plain": [
       "<AxesSubplot:>"
      ]
     },
     "execution_count": 9,
     "metadata": {},
     "output_type": "execute_result"
    },
    {
     "data": {
      "image/png": "[encoded data removed]",
      "text/plain": [
       "<Figure size 432x288 with 1 Axes>"
      ]
     },
     "metadata": {
      "needs_background": "light"
     },
     "output_type": "display_data"
    }
   ],
   "source": [
    "df.Genero.value_counts().plot(kind='bar')"
   ]
  },
  {
   "cell_type": "markdown",
   "metadata": {},
   "source": [
    "La mayoría de los registros son de hombres, siendo una relación cercana de 2:1 frente a las mujeres."
   ]
  },
  {
   "cell_type": "code",
   "execution_count": 10,
   "metadata": {},
   "outputs": [
    {
     "data": {
      "image/png": "[encoded data removed]",
      "text/plain": [
       "<Figure size 432x288 with 1 Axes>"
      ]
     },
     "metadata": {},
     "output_type": "display_data"
    }
   ],
   "source": [
    "plt.pie(df.Alojamiento.value_counts(),labels=['Propia','Arrendada','Libre'],autopct='%0.1f%%')\n",
    "plt.show()"
   ]
  },
  {
   "cell_type": "markdown",
   "metadata": {},
   "source": [
    "Alrededor de un 70% de las personas que realizó un préstamo tienen casa propia."
   ]
  },
  {
   "cell_type": "code",
   "execution_count": 11,
   "metadata": {},
   "outputs": [
    {
     "data": {
      "text/plain": [
       "<AxesSubplot:xlabel='Alojamiento'>"
      ]
     },
     "execution_count": 11,
     "metadata": {},
     "output_type": "execute_result"
    },
    {
     "data": {
      "image/png": "[encoded data removed]",
      "text/plain": [
       "<Figure size 504x360 with 1 Axes>"
      ]
     },
     "metadata": {
      "needs_background": "light"
     },
     "output_type": "display_data"
    }
   ],
   "source": [
    "df.groupby([\"Alojamiento\", \"Riesgo\"]).size().unstack().plot(kind='bar', stacked=True, figsize=(7,5)) "
   ]
  },
  {
   "cell_type": "code",
   "execution_count": 12,
   "metadata": {},
   "outputs": [
    {
     "data": {
      "image/png": "[encoded data removed]",
      "text/plain": [
       "<Figure size 720x504 with 1 Axes>"
      ]
     },
     "metadata": {
      "needs_background": "light"
     },
     "output_type": "display_data"
    }
   ],
   "source": [
    "fig, ax = plt.subplots(1,1,figsize=(10,7))\n",
    "ax = sns.boxplot(x='Alojamiento', y='CantidadSolicitada', data=df, hue=\"Riesgo\")\n",
    "plt.show()"
   ]
  },
  {
   "cell_type": "code",
   "execution_count": 13,
   "metadata": {},
   "outputs": [
    {
     "data": {
      "image/png": "[encoded data removed]",
      "text/plain": [
       "<Figure size 432x288 with 1 Axes>"
      ]
     },
     "metadata": {},
     "output_type": "display_data"
    }
   ],
   "source": [
    "plt.pie(df.CuentasAhorro.value_counts(),labels=['Poco','Ninguna','Moderado','Acomodado','Adinerado'],autopct='%0.1f%%')\n",
    "plt.show()"
   ]
  },
  {
   "cell_type": "code",
   "execution_count": 14,
   "metadata": {},
   "outputs": [
    {
     "data": {
      "text/plain": [
       "<AxesSubplot:xlabel='CuentasAhorro'>"
      ]
     },
     "execution_count": 14,
     "metadata": {},
     "output_type": "execute_result"
    },
    {
     "data": {
      "image/png": "[encoded data removed]",
      "text/plain": [
       "<Figure size 504x360 with 1 Axes>"
      ]
     },
     "metadata": {
      "needs_background": "light"
     },
     "output_type": "display_data"
    }
   ],
   "source": [
    "df.groupby([\"CuentasAhorro\", \"Riesgo\"]).size().unstack().plot(kind='bar', stacked=True, figsize=(7,5)) "
   ]
  },
  {
   "cell_type": "code",
   "execution_count": 15,
   "metadata": {},
   "outputs": [
    {
     "data": {
      "image/png": "[encoded data removed]",
      "text/plain": [
       "<Figure size 432x288 with 1 Axes>"
      ]
     },
     "metadata": {},
     "output_type": "display_data"
    }
   ],
   "source": [
    "plt.pie(df.CuentasCheques.value_counts(),labels=['Ninguna','Poco','Moderado','Adinerado'],autopct='%0.1f%%')\n",
    "plt.show()"
   ]
  },
  {
   "cell_type": "code",
   "execution_count": 16,
   "metadata": {},
   "outputs": [
    {
     "data": {
      "text/plain": [
       "<AxesSubplot:xlabel='CuentasCheques'>"
      ]
     },
     "execution_count": 16,
     "metadata": {},
     "output_type": "execute_result"
    },
    {
     "data": {
      "image/png": "[encoded data removed]",
      "text/plain": [
       "<Figure size 504x360 with 1 Axes>"
      ]
     },
     "metadata": {
      "needs_background": "light"
     },
     "output_type": "display_data"
    }
   ],
   "source": [
    "df.groupby([\"CuentasCheques\", \"Riesgo\"]).size().unstack().plot(kind='bar', stacked=True, figsize=(7,5)) "
   ]
  },
  {
   "cell_type": "code",
   "execution_count": 17,
   "metadata": {},
   "outputs": [
    {
     "data": {
      "image/png": "[encoded data removed]",
      "text/plain": [
       "<Figure size 1080x720 with 1 Axes>"
      ]
     },
     "metadata": {},
     "output_type": "display_data"
    }
   ],
   "source": [
    "plt.figure(figsize=(15,10))\n",
    "plt.pie(df.Proposito.value_counts(),labels=['Carro','Radio/TV','Muebles/Equipamento','Negocios','Educacion','Reparaciones','Vacacion/Otros','Mejoras Hogar'],autopct='%0.1f%%')\n",
    "plt.show()"
   ]
  },
  {
   "cell_type": "code",
   "execution_count": 18,
   "metadata": {},
   "outputs": [
    {
     "data": {
      "image/png": "[encoded data removed]",
      "text/plain": [
       "<Figure size 1080x504 with 1 Axes>"
      ]
     },
     "metadata": {
      "needs_background": "light"
     },
     "output_type": "display_data"
    }
   ],
   "source": [
    "fig, ax = plt.subplots(1,1,figsize=(15,7))\n",
    "ax = sns.boxplot(x='Proposito', y='CantidadSolicitada', data=df, hue=\"Riesgo\")\n",
    "ax.set_title('Cantidad del Crédito/Préstamo por Propósito')\n",
    "plt.show()"
   ]
  },
  {
   "cell_type": "markdown",
   "metadata": {},
   "source": [
    "Alrededor del 80% de los propósitos de los prestamos corresponda a una de las siguientes categorías: carro, radio/TV o muebles/equipos."
   ]
  },
  {
   "cell_type": "markdown",
   "metadata": {},
   "source": [
    "Adicionalmente es clara que la cantidad de datos perteneciente a un registro bueno o malo varía en cada características en gran manera."
   ]
  },
  {
   "cell_type": "markdown",
   "metadata": {},
   "source": [
    "A continuación, se revisan las columnas cuyos datos son varibles tipo numérico."
   ]
  },
  {
   "cell_type": "code",
   "execution_count": 19,
   "metadata": {},
   "outputs": [
    {
     "data": {
      "text/html": [
       "<div>\n",
       "<style scoped>\n",
       "    .dataframe tbody tr th:only-of-type {\n",
       "        vertical-align: middle;\n",
       "    }\n",
       "\n",
       "    .dataframe tbody tr th {\n",
       "        vertical-align: top;\n",
       "    }\n",
       "\n",
       "    .dataframe thead th {\n",
       "        text-align: right;\n",
       "    }\n",
       "</style>\n",
       "<table border=\"1\" class=\"dataframe\">\n",
       "  <thead>\n",
       "    <tr style=\"text-align: right;\">\n",
       "      <th></th>\n",
       "      <th>Edad</th>\n",
       "      <th>Trabajo</th>\n",
       "      <th>CantidadSolicitada</th>\n",
       "      <th>Duracion</th>\n",
       "    </tr>\n",
       "  </thead>\n",
       "  <tbody>\n",
       "    <tr>\n",
       "      <th>count</th>\n",
       "      <td>1000.000000</td>\n",
       "      <td>1000.000000</td>\n",
       "      <td>1000.000000</td>\n",
       "      <td>1000.000000</td>\n",
       "    </tr>\n",
       "    <tr>\n",
       "      <th>mean</th>\n",
       "      <td>35.546000</td>\n",
       "      <td>1.904000</td>\n",
       "      <td>3271.258000</td>\n",
       "      <td>20.903000</td>\n",
       "    </tr>\n",
       "    <tr>\n",
       "      <th>std</th>\n",
       "      <td>11.375469</td>\n",
       "      <td>0.653614</td>\n",
       "      <td>2822.736876</td>\n",
       "      <td>12.058814</td>\n",
       "    </tr>\n",
       "    <tr>\n",
       "      <th>min</th>\n",
       "      <td>19.000000</td>\n",
       "      <td>0.000000</td>\n",
       "      <td>250.000000</td>\n",
       "      <td>4.000000</td>\n",
       "    </tr>\n",
       "    <tr>\n",
       "      <th>25%</th>\n",
       "      <td>27.000000</td>\n",
       "      <td>2.000000</td>\n",
       "      <td>1365.500000</td>\n",
       "      <td>12.000000</td>\n",
       "    </tr>\n",
       "    <tr>\n",
       "      <th>50%</th>\n",
       "      <td>33.000000</td>\n",
       "      <td>2.000000</td>\n",
       "      <td>2319.500000</td>\n",
       "      <td>18.000000</td>\n",
       "    </tr>\n",
       "    <tr>\n",
       "      <th>75%</th>\n",
       "      <td>42.000000</td>\n",
       "      <td>2.000000</td>\n",
       "      <td>3972.250000</td>\n",
       "      <td>24.000000</td>\n",
       "    </tr>\n",
       "    <tr>\n",
       "      <th>max</th>\n",
       "      <td>75.000000</td>\n",
       "      <td>3.000000</td>\n",
       "      <td>18424.000000</td>\n",
       "      <td>72.000000</td>\n",
       "    </tr>\n",
       "  </tbody>\n",
       "</table>\n",
       "</div>"
      ],
      "text/plain": [
       "              Edad      Trabajo  CantidadSolicitada     Duracion\n",
       "count  1000.000000  1000.000000         1000.000000  1000.000000\n",
       "mean     35.546000     1.904000         3271.258000    20.903000\n",
       "std      11.375469     0.653614         2822.736876    12.058814\n",
       "min      19.000000     0.000000          250.000000     4.000000\n",
       "25%      27.000000     2.000000         1365.500000    12.000000\n",
       "50%      33.000000     2.000000         2319.500000    18.000000\n",
       "75%      42.000000     2.000000         3972.250000    24.000000\n",
       "max      75.000000     3.000000        18424.000000    72.000000"
      ]
     },
     "execution_count": 19,
     "metadata": {},
     "output_type": "execute_result"
    }
   ],
   "source": [
    "df.describe()"
   ]
  },
  {
   "cell_type": "markdown",
   "metadata": {},
   "source": [
    "4 Varibles numéricas.\n",
    "\n",
    "El promedio de edad a la hora de hacer un prestamo es de 35 años, son trabajadores hábiles, la mitad de los prestámos está entre 1365 - 2319 EUR y duran en promedio 21 meses.   "
   ]
  },
  {
   "cell_type": "code",
   "execution_count": 20,
   "metadata": {},
   "outputs": [
    {
     "name": "stdout",
     "output_type": "stream",
     "text": [
      "Cantidad de variables numéricas:  4\n"
     ]
    },
    {
     "data": {
      "image/png": "[encoded data removed]",
      "text/plain": [
       "<Figure size 432x288 with 1 Axes>"
      ]
     },
     "metadata": {
      "needs_background": "light"
     },
     "output_type": "display_data"
    },
    {
     "data": {
      "image/png": "[encoded data removed]",
      "text/plain": [
       "<Figure size 432x288 with 1 Axes>"
      ]
     },
     "metadata": {
      "needs_background": "light"
     },
     "output_type": "display_data"
    },
    {
     "data": {
      "image/png": "[encoded data removed]",
      "text/plain": [
       "<Figure size 432x288 with 1 Axes>"
      ]
     },
     "metadata": {
      "needs_background": "light"
     },
     "output_type": "display_data"
    },
    {
     "data": {
      "image/png": "[encoded data removed]",
      "text/plain": [
       "<Figure size 432x288 with 1 Axes>"
      ]
     },
     "metadata": {
      "needs_background": "light"
     },
     "output_type": "display_data"
    },
    {
     "name": "stdout",
     "output_type": "stream",
     "text": [
      "4 variables han sido gráficadas\n"
     ]
    }
   ],
   "source": [
    "num_cols = [col for col in df.columns if df[col].dtypes != 'O' and col not in \"Id\"]\n",
    "print('Cantidad de variables numéricas: ', len(num_cols))\n",
    "\n",
    "def hist_for_nums(data, numeric_cols):\n",
    "    col_counter = 0\n",
    "    data = data.copy()\n",
    "    for col in numeric_cols:\n",
    "        data[col].plot.hist(alpha=0.5, color='b')\n",
    "        plt.xlabel(col)\n",
    "        plt.title(col)\n",
    "        plt.show()\n",
    "        col_counter += 1\n",
    "    print(col_counter, \"variables han sido gráficadas\")\n",
    "\n",
    "\n",
    "hist_for_nums(df, num_cols)"
   ]
  },
  {
   "cell_type": "code",
   "execution_count": 21,
   "metadata": {},
   "outputs": [
    {
     "data": {
      "image/png": "[encoded data removed]",
      "text/plain": [
       "<Figure size 720x504 with 1 Axes>"
      ]
     },
     "metadata": {
      "needs_background": "light"
     },
     "output_type": "display_data"
    }
   ],
   "source": [
    "dfB = df[df.Riesgo=='good']\n",
    "dfM = df[df.Riesgo=='bad']\n",
    "\n",
    "fig, ax = plt.subplots(1,1,figsize=(10,7))\n",
    "ax.hist(dfB.Edad, bins=20,alpha=0.5,histtype='step',label='Riesgo Bueno')\n",
    "ax.hist(dfM.Edad, bins=20,alpha=0.5,histtype='step',label='Riesgo Malo')\n",
    "ax.axvline(dfB.Edad.mean(),color='b',linestyle='solid',linewidth=1,label='Promedio Bueno')\n",
    "ax.axvline(dfM.Edad.mean(),color='orange',linestyle='solid',linewidth=1,label='Promedio Malo')\n",
    "ax.set_title('Distribución de Edades')\n",
    "plt.xlabel(\"Edad\")\n",
    "plt.ylabel(\"Cantidad de Datos\")\n",
    "legend = ax.legend(loc='upper right', shadow=False, fontsize='medium')\n",
    "plt.show()"
   ]
  },
  {
   "cell_type": "code",
   "execution_count": 22,
   "metadata": {},
   "outputs": [
    {
     "data": {
      "image/png": "[encoded data removed]",
      "text/plain": [
       "<Figure size 720x504 with 1 Axes>"
      ]
     },
     "metadata": {
      "needs_background": "light"
     },
     "output_type": "display_data"
    }
   ],
   "source": [
    "fig, ax = plt.subplots(1,1,figsize=(10,7))\n",
    "ax.hist(dfB.CantidadSolicitada, bins=20,alpha=0.5,histtype='step',label='Riesgo Bueno')\n",
    "ax.hist(dfM.CantidadSolicitada, bins=20,alpha=0.5,histtype='step',label='Riesgo Malo')\n",
    "ax.axvline(dfB.CantidadSolicitada.mean(),color='b',linestyle='solid',linewidth=1,label='Promedio Bueno')\n",
    "ax.axvline(dfM.CantidadSolicitada.mean(),color='orange',linestyle='solid',linewidth=1,label='Promedio Malo')\n",
    "ax.set_title('Distribución de Prestamos')\n",
    "plt.xlabel(\"Cantidad Solicitada\")\n",
    "plt.ylabel(\"Cantidad de Datos\")\n",
    "legend = ax.legend(loc='upper right', shadow=False, fontsize='medium')\n",
    "plt.show()"
   ]
  },
  {
   "cell_type": "markdown",
   "metadata": {},
   "source": [
    "Las distribuciones de edades y cantidad solicitadas son distribuciones con sesgo a la derecha unimodales (un único pico o montaña). Dónde la mediana está ubicada a la izquierda de la media. \n",
    "Ahora se crearan intervalos de edades para entender mejor los datos. 18-25: Estudiante, 26-35:Joven, 35-60: Adulto y 60++ mayor"
   ]
  },
  {
   "cell_type": "code",
   "execution_count": 23,
   "metadata": {},
   "outputs": [],
   "source": [
    "intervalo = (18, 25, 35, 60, 100)\n",
    "\n",
    "cats = ['Estudiante', 'Joven', 'Adulto', 'Mayor']\n",
    "df[\"GEdad\"] = pd.cut(df.Edad, intervalo, labels=cats)"
   ]
  },
  {
   "cell_type": "code",
   "execution_count": 24,
   "metadata": {},
   "outputs": [
    {
     "data": {
      "text/html": [
       "<div>\n",
       "<style scoped>\n",
       "    .dataframe tbody tr th:only-of-type {\n",
       "        vertical-align: middle;\n",
       "    }\n",
       "\n",
       "    .dataframe tbody tr th {\n",
       "        vertical-align: top;\n",
       "    }\n",
       "\n",
       "    .dataframe thead th {\n",
       "        text-align: right;\n",
       "    }\n",
       "</style>\n",
       "<table border=\"1\" class=\"dataframe\">\n",
       "  <thead>\n",
       "    <tr style=\"text-align: right;\">\n",
       "      <th></th>\n",
       "      <th>Edad</th>\n",
       "      <th>Genero</th>\n",
       "      <th>Trabajo</th>\n",
       "      <th>Alojamiento</th>\n",
       "      <th>CuentasAhorro</th>\n",
       "      <th>CuentasCheques</th>\n",
       "      <th>CantidadSolicitada</th>\n",
       "      <th>Duracion</th>\n",
       "      <th>Proposito</th>\n",
       "      <th>Riesgo</th>\n",
       "      <th>GEdad</th>\n",
       "    </tr>\n",
       "  </thead>\n",
       "  <tbody>\n",
       "    <tr>\n",
       "      <th>973</th>\n",
       "      <td>36</td>\n",
       "      <td>male</td>\n",
       "      <td>2</td>\n",
       "      <td>rent</td>\n",
       "      <td>little</td>\n",
       "      <td>little</td>\n",
       "      <td>7297</td>\n",
       "      <td>60</td>\n",
       "      <td>business</td>\n",
       "      <td>bad</td>\n",
       "      <td>Adulto</td>\n",
       "    </tr>\n",
       "    <tr>\n",
       "      <th>313</th>\n",
       "      <td>25</td>\n",
       "      <td>male</td>\n",
       "      <td>1</td>\n",
       "      <td>own</td>\n",
       "      <td>little</td>\n",
       "      <td>moderate</td>\n",
       "      <td>685</td>\n",
       "      <td>12</td>\n",
       "      <td>car</td>\n",
       "      <td>bad</td>\n",
       "      <td>Estudiante</td>\n",
       "    </tr>\n",
       "    <tr>\n",
       "      <th>503</th>\n",
       "      <td>38</td>\n",
       "      <td>male</td>\n",
       "      <td>2</td>\n",
       "      <td>own</td>\n",
       "      <td>moderate</td>\n",
       "      <td>moderate</td>\n",
       "      <td>1216</td>\n",
       "      <td>24</td>\n",
       "      <td>radio/TV</td>\n",
       "      <td>bad</td>\n",
       "      <td>Adulto</td>\n",
       "    </tr>\n",
       "    <tr>\n",
       "      <th>723</th>\n",
       "      <td>66</td>\n",
       "      <td>female</td>\n",
       "      <td>1</td>\n",
       "      <td>own</td>\n",
       "      <td>quite rich</td>\n",
       "      <td>moderate</td>\n",
       "      <td>790</td>\n",
       "      <td>9</td>\n",
       "      <td>radio/TV</td>\n",
       "      <td>good</td>\n",
       "      <td>Mayor</td>\n",
       "    </tr>\n",
       "    <tr>\n",
       "      <th>164</th>\n",
       "      <td>36</td>\n",
       "      <td>male</td>\n",
       "      <td>2</td>\n",
       "      <td>own</td>\n",
       "      <td>quite rich</td>\n",
       "      <td>none</td>\n",
       "      <td>909</td>\n",
       "      <td>36</td>\n",
       "      <td>car</td>\n",
       "      <td>good</td>\n",
       "      <td>Adulto</td>\n",
       "    </tr>\n",
       "  </tbody>\n",
       "</table>\n",
       "</div>"
      ],
      "text/plain": [
       "     Edad  Genero  Trabajo Alojamiento CuentasAhorro CuentasCheques  \\\n",
       "973    36    male        2        rent        little         little   \n",
       "313    25    male        1         own        little       moderate   \n",
       "503    38    male        2         own      moderate       moderate   \n",
       "723    66  female        1         own    quite rich       moderate   \n",
       "164    36    male        2         own    quite rich           none   \n",
       "\n",
       "     CantidadSolicitada  Duracion Proposito Riesgo       GEdad  \n",
       "973                7297        60  business    bad      Adulto  \n",
       "313                 685        12       car    bad  Estudiante  \n",
       "503                1216        24  radio/TV    bad      Adulto  \n",
       "723                 790         9  radio/TV   good       Mayor  \n",
       "164                 909        36       car   good      Adulto  "
      ]
     },
     "execution_count": 24,
     "metadata": {},
     "output_type": "execute_result"
    }
   ],
   "source": [
    "df.sample(5)"
   ]
  },
  {
   "cell_type": "code",
   "execution_count": 25,
   "metadata": {},
   "outputs": [
    {
     "data": {
      "image/png": "[encoded data removed]",
      "text/plain": [
       "<Figure size 720x504 with 1 Axes>"
      ]
     },
     "metadata": {
      "needs_background": "light"
     },
     "output_type": "display_data"
    }
   ],
   "source": [
    "fig, ax = plt.subplots(1,1,figsize=(10,7))\n",
    "ax = sns.boxplot(x='Trabajo', y='CantidadSolicitada', data=df, hue=\"Riesgo\")\n",
    "ax.set_title('Cantidad del Credito/Prestamo por Trabajo')\n",
    "plt.show()"
   ]
  },
  {
   "cell_type": "code",
   "execution_count": 26,
   "metadata": {},
   "outputs": [
    {
     "data": {
      "image/png": "[encoded data removed]",
      "text/plain": [
       "<Figure size 720x504 with 1 Axes>"
      ]
     },
     "metadata": {
      "needs_background": "light"
     },
     "output_type": "display_data"
    }
   ],
   "source": [
    "fig, ax = plt.subplots(1,1,figsize=(10,7))\n",
    "ax = sns.boxplot(x='Trabajo', y='CantidadSolicitada', data=df, hue=\"Riesgo\")\n",
    "plt.show()"
   ]
  },
  {
   "cell_type": "code",
   "execution_count": 27,
   "metadata": {},
   "outputs": [
    {
     "data": {
      "text/html": [
       "<div>\n",
       "<style scoped>\n",
       "    .dataframe tbody tr th:only-of-type {\n",
       "        vertical-align: middle;\n",
       "    }\n",
       "\n",
       "    .dataframe tbody tr th {\n",
       "        vertical-align: top;\n",
       "    }\n",
       "\n",
       "    .dataframe thead th {\n",
       "        text-align: right;\n",
       "    }\n",
       "</style>\n",
       "<table border=\"1\" class=\"dataframe\">\n",
       "  <thead>\n",
       "    <tr style=\"text-align: right;\">\n",
       "      <th></th>\n",
       "      <th>Edad</th>\n",
       "      <th>Trabajo</th>\n",
       "      <th>CantidadSolicitada</th>\n",
       "      <th>Duracion</th>\n",
       "    </tr>\n",
       "  </thead>\n",
       "  <tbody>\n",
       "    <tr>\n",
       "      <th>count</th>\n",
       "      <td>700.000000</td>\n",
       "      <td>700.000000</td>\n",
       "      <td>700.000000</td>\n",
       "      <td>700.000000</td>\n",
       "    </tr>\n",
       "    <tr>\n",
       "      <th>mean</th>\n",
       "      <td>36.224286</td>\n",
       "      <td>1.890000</td>\n",
       "      <td>2985.457143</td>\n",
       "      <td>19.207143</td>\n",
       "    </tr>\n",
       "    <tr>\n",
       "      <th>std</th>\n",
       "      <td>11.381145</td>\n",
       "      <td>0.646914</td>\n",
       "      <td>2401.472278</td>\n",
       "      <td>11.079564</td>\n",
       "    </tr>\n",
       "    <tr>\n",
       "      <th>min</th>\n",
       "      <td>19.000000</td>\n",
       "      <td>0.000000</td>\n",
       "      <td>250.000000</td>\n",
       "      <td>4.000000</td>\n",
       "    </tr>\n",
       "    <tr>\n",
       "      <th>25%</th>\n",
       "      <td>27.000000</td>\n",
       "      <td>2.000000</td>\n",
       "      <td>1375.500000</td>\n",
       "      <td>12.000000</td>\n",
       "    </tr>\n",
       "    <tr>\n",
       "      <th>50%</th>\n",
       "      <td>34.000000</td>\n",
       "      <td>2.000000</td>\n",
       "      <td>2244.000000</td>\n",
       "      <td>18.000000</td>\n",
       "    </tr>\n",
       "    <tr>\n",
       "      <th>75%</th>\n",
       "      <td>42.250000</td>\n",
       "      <td>2.000000</td>\n",
       "      <td>3634.750000</td>\n",
       "      <td>24.000000</td>\n",
       "    </tr>\n",
       "    <tr>\n",
       "      <th>max</th>\n",
       "      <td>75.000000</td>\n",
       "      <td>3.000000</td>\n",
       "      <td>15857.000000</td>\n",
       "      <td>60.000000</td>\n",
       "    </tr>\n",
       "  </tbody>\n",
       "</table>\n",
       "</div>"
      ],
      "text/plain": [
       "             Edad     Trabajo  CantidadSolicitada    Duracion\n",
       "count  700.000000  700.000000          700.000000  700.000000\n",
       "mean    36.224286    1.890000         2985.457143   19.207143\n",
       "std     11.381145    0.646914         2401.472278   11.079564\n",
       "min     19.000000    0.000000          250.000000    4.000000\n",
       "25%     27.000000    2.000000         1375.500000   12.000000\n",
       "50%     34.000000    2.000000         2244.000000   18.000000\n",
       "75%     42.250000    2.000000         3634.750000   24.000000\n",
       "max     75.000000    3.000000        15857.000000   60.000000"
      ]
     },
     "execution_count": 27,
     "metadata": {},
     "output_type": "execute_result"
    }
   ],
   "source": [
    "dfB.describe()"
   ]
  },
  {
   "cell_type": "code",
   "execution_count": 28,
   "metadata": {},
   "outputs": [
    {
     "data": {
      "text/html": [
       "<div>\n",
       "<style scoped>\n",
       "    .dataframe tbody tr th:only-of-type {\n",
       "        vertical-align: middle;\n",
       "    }\n",
       "\n",
       "    .dataframe tbody tr th {\n",
       "        vertical-align: top;\n",
       "    }\n",
       "\n",
       "    .dataframe thead th {\n",
       "        text-align: right;\n",
       "    }\n",
       "</style>\n",
       "<table border=\"1\" class=\"dataframe\">\n",
       "  <thead>\n",
       "    <tr style=\"text-align: right;\">\n",
       "      <th></th>\n",
       "      <th>Edad</th>\n",
       "      <th>Trabajo</th>\n",
       "      <th>CantidadSolicitada</th>\n",
       "      <th>Duracion</th>\n",
       "    </tr>\n",
       "  </thead>\n",
       "  <tbody>\n",
       "    <tr>\n",
       "      <th>count</th>\n",
       "      <td>300.000000</td>\n",
       "      <td>300.000000</td>\n",
       "      <td>300.000000</td>\n",
       "      <td>300.000000</td>\n",
       "    </tr>\n",
       "    <tr>\n",
       "      <th>mean</th>\n",
       "      <td>33.963333</td>\n",
       "      <td>1.936667</td>\n",
       "      <td>3938.126667</td>\n",
       "      <td>24.860000</td>\n",
       "    </tr>\n",
       "    <tr>\n",
       "      <th>std</th>\n",
       "      <td>11.222379</td>\n",
       "      <td>0.668940</td>\n",
       "      <td>3535.818955</td>\n",
       "      <td>13.282639</td>\n",
       "    </tr>\n",
       "    <tr>\n",
       "      <th>min</th>\n",
       "      <td>19.000000</td>\n",
       "      <td>0.000000</td>\n",
       "      <td>433.000000</td>\n",
       "      <td>6.000000</td>\n",
       "    </tr>\n",
       "    <tr>\n",
       "      <th>25%</th>\n",
       "      <td>25.000000</td>\n",
       "      <td>2.000000</td>\n",
       "      <td>1352.500000</td>\n",
       "      <td>12.000000</td>\n",
       "    </tr>\n",
       "    <tr>\n",
       "      <th>50%</th>\n",
       "      <td>31.000000</td>\n",
       "      <td>2.000000</td>\n",
       "      <td>2574.500000</td>\n",
       "      <td>24.000000</td>\n",
       "    </tr>\n",
       "    <tr>\n",
       "      <th>75%</th>\n",
       "      <td>40.000000</td>\n",
       "      <td>2.000000</td>\n",
       "      <td>5141.500000</td>\n",
       "      <td>36.000000</td>\n",
       "    </tr>\n",
       "    <tr>\n",
       "      <th>max</th>\n",
       "      <td>74.000000</td>\n",
       "      <td>3.000000</td>\n",
       "      <td>18424.000000</td>\n",
       "      <td>72.000000</td>\n",
       "    </tr>\n",
       "  </tbody>\n",
       "</table>\n",
       "</div>"
      ],
      "text/plain": [
       "             Edad     Trabajo  CantidadSolicitada    Duracion\n",
       "count  300.000000  300.000000          300.000000  300.000000\n",
       "mean    33.963333    1.936667         3938.126667   24.860000\n",
       "std     11.222379    0.668940         3535.818955   13.282639\n",
       "min     19.000000    0.000000          433.000000    6.000000\n",
       "25%     25.000000    2.000000         1352.500000   12.000000\n",
       "50%     31.000000    2.000000         2574.500000   24.000000\n",
       "75%     40.000000    2.000000         5141.500000   36.000000\n",
       "max     74.000000    3.000000        18424.000000   72.000000"
      ]
     },
     "execution_count": 28,
     "metadata": {},
     "output_type": "execute_result"
    }
   ],
   "source": [
    "dfM.describe()"
   ]
  },
  {
   "cell_type": "code",
   "execution_count": 29,
   "metadata": {},
   "outputs": [
    {
     "data": {
      "image/png": "[encoded data removed]",
      "text/plain": [
       "<Figure size 432x288 with 1 Axes>"
      ]
     },
     "metadata": {
      "needs_background": "light"
     },
     "output_type": "display_data"
    }
   ],
   "source": [
    "ax = sns.boxplot(x='Riesgo', y='CantidadSolicitada', data=df)"
   ]
  },
  {
   "cell_type": "code",
   "execution_count": 30,
   "metadata": {},
   "outputs": [
    {
     "data": {
      "image/png": "[encoded data removed]",
      "text/plain": [
       "<Figure size 432x288 with 1 Axes>"
      ]
     },
     "metadata": {
      "needs_background": "light"
     },
     "output_type": "display_data"
    }
   ],
   "source": [
    "ax = sns.boxplot(x='Riesgo', y='Duracion', data=df)"
   ]
  },
  {
   "cell_type": "markdown",
   "metadata": {},
   "source": [
    "Al analizar los dataset de los registros buenos y los malos, se nota una diferencia en las cantidades solicitadas, en dónde las personas catalogadas como malos prestatarios solicitaban valores mayores (se nota claramente en el Cuartile 3, dódne hay 1500 EUR de diferencia en los prestamos). De una menor manera pero significativa, la duración de los prestamos era mayor en los prestatarios luego caracterizados como malos."
   ]
  },
  {
   "cell_type": "markdown",
   "metadata": {},
   "source": [
    "# <a href=\"#0\"><font size=\"1\">Volver al inicio</font></a>\n",
    "\n",
    "# <a id=\"5\">5. Ingeniería de Características</a>"
   ]
  },
  {
   "cell_type": "markdown",
   "metadata": {},
   "source": [
    "Iniciamos revisando la cantidad de los datos lejanos al resto del dataset o Outliers."
   ]
  },
  {
   "cell_type": "code",
   "execution_count": 31,
   "metadata": {},
   "outputs": [
    {
     "name": "stdout",
     "output_type": "stream",
     "text": [
      "Edad : 23\n",
      "Trabajo : 370\n",
      "CantidadSolicitada : 72\n",
      "Duracion : 70\n"
     ]
    },
    {
     "data": {
      "text/plain": [
       "['Edad', 'Trabajo', 'CantidadSolicitada', 'Duracion']"
      ]
     },
     "execution_count": 31,
     "metadata": {},
     "output_type": "execute_result"
    }
   ],
   "source": [
    "def outlier_thresholds(dataframe, variable):\n",
    "    quartile1 = dataframe[variable].quantile(0.25)\n",
    "    quartile3 = dataframe[variable].quantile(0.75)\n",
    "    interquantile_range = quartile3 - quartile1\n",
    "    up_limit = quartile3 + 1.5 * interquantile_range\n",
    "    low_limit = quartile1 - 1.5 * interquantile_range\n",
    "    return low_limit, up_limit\n",
    "\n",
    "\n",
    "def has_outliers(dataframe, num_col_names, plot=False):\n",
    "    variable_names = []\n",
    "    for col in num_col_names:\n",
    "        low_limit, up_limit = outlier_thresholds(dataframe, col)\n",
    "        if dataframe[(dataframe[col] > up_limit) | (dataframe[col] < low_limit)].any(axis=None):\n",
    "            number_of_outliers = dataframe[(dataframe[col] > up_limit) | (dataframe[col] < low_limit)].shape[0]\n",
    "            print(col, \":\", number_of_outliers)\n",
    "            variable_names.append(col)\n",
    "            if plot:\n",
    "                sns.boxplot(x=dataframe[col])\n",
    "                plt.show()\n",
    "    return variable_names\n",
    "\n",
    "\n",
    "has_outliers(df, num_cols)"
   ]
  },
  {
   "cell_type": "markdown",
   "metadata": {},
   "source": [
    "Ahora, se ajustan los límites de los umbrales para los valores lejanos."
   ]
  },
  {
   "cell_type": "code",
   "execution_count": 32,
   "metadata": {},
   "outputs": [
    {
     "data": {
      "text/plain": [
       "[]"
      ]
     },
     "execution_count": 32,
     "metadata": {},
     "output_type": "execute_result"
    }
   ],
   "source": [
    "def replace_with_thresholds(dataframe, variable):\n",
    "    low_limit, up_limit = outlier_thresholds(dataframe, variable)\n",
    "    dataframe.loc[(dataframe[variable] < low_limit), variable] = low_limit\n",
    "    dataframe.loc[(dataframe[variable] > up_limit), variable] = up_limit\n",
    "\n",
    "\n",
    "for col in num_cols:\n",
    "    replace_with_thresholds(df, col)\n",
    "\n",
    "has_outliers(df, num_cols)"
   ]
  },
  {
   "cell_type": "code",
   "execution_count": 33,
   "metadata": {},
   "outputs": [],
   "source": [
    "import sklearn # aprendizaje automático / machine learning\n",
    "from sklearn import preprocessing # manejar data no numerica \n",
    "from sklearn.model_selection import StratifiedKFold # validación cruzada\n",
    "# Tipo de validación cruzada, es una variación de KFold que retorna pliegues. Los pleigues son realizados a preservar el \n",
    "# porcentaje de muestras para cada clase.\n",
    "from sklearn.model_selection import cross_validate # Técnica utilizada para evaluar los resultados de un análisis estadístico\n",
    "# y garantizar que son independientes de la partición entre datos de entrenamiento y prueba.\n",
    "# https://es.wikipedia.org/wiki/Validación_cruzada\n",
    "# Se utiliza en entornos donde el objetivo principal es la predicción y se quiere estimar la precisión de un modelo que se \n",
    "# llevará a cabo a la práctica.\n",
    "from sklearn.model_selection import cross_val_score # Obtener la puntuación del modelo\n",
    "from sklearn.model_selection import train_test_split # Dividir los datos en datos de entrenamiento y datos de prueba del modelo. \n",
    "from sklearn.model_selection import ShuffleSplit # Permutador aleatorio utilizado en validación cruzada\n",
    "from sklearn.pipeline import make_pipeline # Cosntruye una tipería para los estimadores dados.\n",
    "from sklearn import metrics # Obtener las métricas de los modelos (precision, score, recall, accuracy)"
   ]
  },
  {
   "cell_type": "code",
   "execution_count": 34,
   "metadata": {},
   "outputs": [],
   "source": [
    "# Codificador discreto de valores enteros\n",
    "label_encoder = preprocessing.LabelEncoder()"
   ]
  },
  {
   "cell_type": "code",
   "execution_count": 35,
   "metadata": {},
   "outputs": [
    {
     "data": {
      "text/html": [
       "<div>\n",
       "<style scoped>\n",
       "    .dataframe tbody tr th:only-of-type {\n",
       "        vertical-align: middle;\n",
       "    }\n",
       "\n",
       "    .dataframe tbody tr th {\n",
       "        vertical-align: top;\n",
       "    }\n",
       "\n",
       "    .dataframe thead th {\n",
       "        text-align: right;\n",
       "    }\n",
       "</style>\n",
       "<table border=\"1\" class=\"dataframe\">\n",
       "  <thead>\n",
       "    <tr style=\"text-align: right;\">\n",
       "      <th></th>\n",
       "      <th>Edad</th>\n",
       "      <th>Genero</th>\n",
       "      <th>Trabajo</th>\n",
       "      <th>Alojamiento</th>\n",
       "      <th>CuentasAhorro</th>\n",
       "      <th>CuentasCheques</th>\n",
       "      <th>CantidadSolicitada</th>\n",
       "      <th>Duracion</th>\n",
       "      <th>Proposito</th>\n",
       "      <th>Riesgo</th>\n",
       "      <th>GEdad</th>\n",
       "    </tr>\n",
       "  </thead>\n",
       "  <tbody>\n",
       "    <tr>\n",
       "      <th>0</th>\n",
       "      <td>64.5</td>\n",
       "      <td>male</td>\n",
       "      <td>2.0</td>\n",
       "      <td>own</td>\n",
       "      <td>none</td>\n",
       "      <td>little</td>\n",
       "      <td>1169.0</td>\n",
       "      <td>6.0</td>\n",
       "      <td>radio/TV</td>\n",
       "      <td>good</td>\n",
       "      <td>Mayor</td>\n",
       "    </tr>\n",
       "    <tr>\n",
       "      <th>1</th>\n",
       "      <td>22.0</td>\n",
       "      <td>female</td>\n",
       "      <td>2.0</td>\n",
       "      <td>own</td>\n",
       "      <td>little</td>\n",
       "      <td>moderate</td>\n",
       "      <td>5951.0</td>\n",
       "      <td>42.0</td>\n",
       "      <td>radio/TV</td>\n",
       "      <td>bad</td>\n",
       "      <td>Estudiante</td>\n",
       "    </tr>\n",
       "    <tr>\n",
       "      <th>2</th>\n",
       "      <td>49.0</td>\n",
       "      <td>male</td>\n",
       "      <td>2.0</td>\n",
       "      <td>own</td>\n",
       "      <td>little</td>\n",
       "      <td>none</td>\n",
       "      <td>2096.0</td>\n",
       "      <td>12.0</td>\n",
       "      <td>education</td>\n",
       "      <td>good</td>\n",
       "      <td>Adulto</td>\n",
       "    </tr>\n",
       "    <tr>\n",
       "      <th>3</th>\n",
       "      <td>45.0</td>\n",
       "      <td>male</td>\n",
       "      <td>2.0</td>\n",
       "      <td>free</td>\n",
       "      <td>little</td>\n",
       "      <td>little</td>\n",
       "      <td>7882.0</td>\n",
       "      <td>42.0</td>\n",
       "      <td>furniture/equipment</td>\n",
       "      <td>good</td>\n",
       "      <td>Adulto</td>\n",
       "    </tr>\n",
       "    <tr>\n",
       "      <th>4</th>\n",
       "      <td>53.0</td>\n",
       "      <td>male</td>\n",
       "      <td>2.0</td>\n",
       "      <td>free</td>\n",
       "      <td>little</td>\n",
       "      <td>little</td>\n",
       "      <td>4870.0</td>\n",
       "      <td>24.0</td>\n",
       "      <td>car</td>\n",
       "      <td>bad</td>\n",
       "      <td>Adulto</td>\n",
       "    </tr>\n",
       "  </tbody>\n",
       "</table>\n",
       "</div>"
      ],
      "text/plain": [
       "   Edad  Genero  Trabajo Alojamiento CuentasAhorro CuentasCheques  \\\n",
       "0  64.5    male      2.0         own          none         little   \n",
       "1  22.0  female      2.0         own        little       moderate   \n",
       "2  49.0    male      2.0         own        little           none   \n",
       "3  45.0    male      2.0        free        little         little   \n",
       "4  53.0    male      2.0        free        little         little   \n",
       "\n",
       "   CantidadSolicitada  Duracion            Proposito Riesgo       GEdad  \n",
       "0              1169.0       6.0             radio/TV   good       Mayor  \n",
       "1              5951.0      42.0             radio/TV    bad  Estudiante  \n",
       "2              2096.0      12.0            education   good      Adulto  \n",
       "3              7882.0      42.0  furniture/equipment   good      Adulto  \n",
       "4              4870.0      24.0                  car    bad      Adulto  "
      ]
     },
     "execution_count": 35,
     "metadata": {},
     "output_type": "execute_result"
    }
   ],
   "source": [
    "df.head()"
   ]
  },
  {
   "cell_type": "code",
   "execution_count": 36,
   "metadata": {},
   "outputs": [
    {
     "data": {
      "text/plain": [
       "Edad                  float64\n",
       "Genero                  int32\n",
       "Trabajo               float64\n",
       "Alojamiento             int32\n",
       "CuentasAhorro           int32\n",
       "CuentasCheques          int32\n",
       "CantidadSolicitada    float64\n",
       "Duracion              float64\n",
       "Proposito               int32\n",
       "Riesgo                  int32\n",
       "GEdad                   int32\n",
       "dtype: object"
      ]
     },
     "execution_count": 36,
     "metadata": {},
     "output_type": "execute_result"
    }
   ],
   "source": [
    "# Cambiamos las variables categoricas a enteros\n",
    "cat_cols = [col for col in df.columns if df[col].dtypes == 'O']\n",
    "\n",
    "for col in cat_cols:\n",
    "    df[col] = label_encoder.fit_transform(df[col])\n",
    "\n",
    "df['GEdad'] = label_encoder.fit_transform(df['GEdad'])\n",
    "df.dtypes"
   ]
  },
  {
   "cell_type": "code",
   "execution_count": 37,
   "metadata": {},
   "outputs": [
    {
     "data": {
      "text/plain": [
       "1000"
      ]
     },
     "execution_count": 37,
     "metadata": {},
     "output_type": "execute_result"
    }
   ],
   "source": [
    "y = pd.DataFrame(df['Riesgo']).to_numpy().astype(np.int)\n",
    "y.size"
   ]
  },
  {
   "cell_type": "markdown",
   "metadata": {},
   "source": [
    "Quitamos las columnas redundantes"
   ]
  },
  {
   "cell_type": "code",
   "execution_count": 38,
   "metadata": {},
   "outputs": [],
   "source": [
    "df.drop([\"Edad\",\"Riesgo\"], axis = 1, inplace=True)"
   ]
  },
  {
   "cell_type": "code",
   "execution_count": 39,
   "metadata": {},
   "outputs": [
    {
     "data": {
      "text/html": [
       "<div>\n",
       "<style scoped>\n",
       "    .dataframe tbody tr th:only-of-type {\n",
       "        vertical-align: middle;\n",
       "    }\n",
       "\n",
       "    .dataframe tbody tr th {\n",
       "        vertical-align: top;\n",
       "    }\n",
       "\n",
       "    .dataframe thead th {\n",
       "        text-align: right;\n",
       "    }\n",
       "</style>\n",
       "<table border=\"1\" class=\"dataframe\">\n",
       "  <thead>\n",
       "    <tr style=\"text-align: right;\">\n",
       "      <th></th>\n",
       "      <th>Genero</th>\n",
       "      <th>Trabajo</th>\n",
       "      <th>Alojamiento</th>\n",
       "      <th>CuentasAhorro</th>\n",
       "      <th>CuentasCheques</th>\n",
       "      <th>CantidadSolicitada</th>\n",
       "      <th>Duracion</th>\n",
       "      <th>Proposito</th>\n",
       "      <th>GEdad</th>\n",
       "    </tr>\n",
       "  </thead>\n",
       "  <tbody>\n",
       "    <tr>\n",
       "      <th>0</th>\n",
       "      <td>1</td>\n",
       "      <td>2.0</td>\n",
       "      <td>1</td>\n",
       "      <td>2</td>\n",
       "      <td>0</td>\n",
       "      <td>1169.0</td>\n",
       "      <td>6.0</td>\n",
       "      <td>5</td>\n",
       "      <td>3</td>\n",
       "    </tr>\n",
       "    <tr>\n",
       "      <th>1</th>\n",
       "      <td>0</td>\n",
       "      <td>2.0</td>\n",
       "      <td>1</td>\n",
       "      <td>0</td>\n",
       "      <td>1</td>\n",
       "      <td>5951.0</td>\n",
       "      <td>42.0</td>\n",
       "      <td>5</td>\n",
       "      <td>1</td>\n",
       "    </tr>\n",
       "    <tr>\n",
       "      <th>2</th>\n",
       "      <td>1</td>\n",
       "      <td>2.0</td>\n",
       "      <td>1</td>\n",
       "      <td>0</td>\n",
       "      <td>2</td>\n",
       "      <td>2096.0</td>\n",
       "      <td>12.0</td>\n",
       "      <td>3</td>\n",
       "      <td>0</td>\n",
       "    </tr>\n",
       "  </tbody>\n",
       "</table>\n",
       "</div>"
      ],
      "text/plain": [
       "   Genero  Trabajo  Alojamiento  CuentasAhorro  CuentasCheques  \\\n",
       "0       1      2.0            1              2               0   \n",
       "1       0      2.0            1              0               1   \n",
       "2       1      2.0            1              0               2   \n",
       "\n",
       "   CantidadSolicitada  Duracion  Proposito  GEdad  \n",
       "0              1169.0       6.0          5      3  \n",
       "1              5951.0      42.0          5      1  \n",
       "2              2096.0      12.0          3      0  "
      ]
     },
     "execution_count": 39,
     "metadata": {},
     "output_type": "execute_result"
    }
   ],
   "source": [
    "df.head(3)"
   ]
  },
  {
   "cell_type": "markdown",
   "metadata": {},
   "source": [
    "Se construye la matriz de características"
   ]
  },
  {
   "cell_type": "code",
   "execution_count": 40,
   "metadata": {},
   "outputs": [
    {
     "data": {
      "text/html": [
       "<div>\n",
       "<style scoped>\n",
       "    .dataframe tbody tr th:only-of-type {\n",
       "        vertical-align: middle;\n",
       "    }\n",
       "\n",
       "    .dataframe tbody tr th {\n",
       "        vertical-align: top;\n",
       "    }\n",
       "\n",
       "    .dataframe thead th {\n",
       "        text-align: right;\n",
       "    }\n",
       "</style>\n",
       "<table border=\"1\" class=\"dataframe\">\n",
       "  <thead>\n",
       "    <tr style=\"text-align: right;\">\n",
       "      <th></th>\n",
       "      <th>Genero</th>\n",
       "      <th>Trabajo</th>\n",
       "      <th>Alojamiento</th>\n",
       "      <th>CuentasAhorro</th>\n",
       "      <th>CuentasCheques</th>\n",
       "      <th>CantidadSolicitada</th>\n",
       "      <th>Duracion</th>\n",
       "      <th>Proposito</th>\n",
       "      <th>GEdad</th>\n",
       "    </tr>\n",
       "  </thead>\n",
       "  <tbody>\n",
       "    <tr>\n",
       "      <th>0</th>\n",
       "      <td>1.0</td>\n",
       "      <td>2.0</td>\n",
       "      <td>1.0</td>\n",
       "      <td>2.0</td>\n",
       "      <td>0.0</td>\n",
       "      <td>1169.0</td>\n",
       "      <td>6.0</td>\n",
       "      <td>5.0</td>\n",
       "      <td>3.0</td>\n",
       "    </tr>\n",
       "    <tr>\n",
       "      <th>1</th>\n",
       "      <td>0.0</td>\n",
       "      <td>2.0</td>\n",
       "      <td>1.0</td>\n",
       "      <td>0.0</td>\n",
       "      <td>1.0</td>\n",
       "      <td>5951.0</td>\n",
       "      <td>42.0</td>\n",
       "      <td>5.0</td>\n",
       "      <td>1.0</td>\n",
       "    </tr>\n",
       "    <tr>\n",
       "      <th>2</th>\n",
       "      <td>1.0</td>\n",
       "      <td>2.0</td>\n",
       "      <td>1.0</td>\n",
       "      <td>0.0</td>\n",
       "      <td>2.0</td>\n",
       "      <td>2096.0</td>\n",
       "      <td>12.0</td>\n",
       "      <td>3.0</td>\n",
       "      <td>0.0</td>\n",
       "    </tr>\n",
       "    <tr>\n",
       "      <th>3</th>\n",
       "      <td>1.0</td>\n",
       "      <td>2.0</td>\n",
       "      <td>0.0</td>\n",
       "      <td>0.0</td>\n",
       "      <td>0.0</td>\n",
       "      <td>7882.0</td>\n",
       "      <td>42.0</td>\n",
       "      <td>4.0</td>\n",
       "      <td>0.0</td>\n",
       "    </tr>\n",
       "    <tr>\n",
       "      <th>4</th>\n",
       "      <td>1.0</td>\n",
       "      <td>2.0</td>\n",
       "      <td>0.0</td>\n",
       "      <td>0.0</td>\n",
       "      <td>0.0</td>\n",
       "      <td>4870.0</td>\n",
       "      <td>24.0</td>\n",
       "      <td>1.0</td>\n",
       "      <td>0.0</td>\n",
       "    </tr>\n",
       "    <tr>\n",
       "      <th>...</th>\n",
       "      <td>...</td>\n",
       "      <td>...</td>\n",
       "      <td>...</td>\n",
       "      <td>...</td>\n",
       "      <td>...</td>\n",
       "      <td>...</td>\n",
       "      <td>...</td>\n",
       "      <td>...</td>\n",
       "      <td>...</td>\n",
       "    </tr>\n",
       "    <tr>\n",
       "      <th>995</th>\n",
       "      <td>0.0</td>\n",
       "      <td>2.0</td>\n",
       "      <td>1.0</td>\n",
       "      <td>0.0</td>\n",
       "      <td>2.0</td>\n",
       "      <td>1736.0</td>\n",
       "      <td>12.0</td>\n",
       "      <td>4.0</td>\n",
       "      <td>2.0</td>\n",
       "    </tr>\n",
       "    <tr>\n",
       "      <th>996</th>\n",
       "      <td>1.0</td>\n",
       "      <td>2.0</td>\n",
       "      <td>1.0</td>\n",
       "      <td>0.0</td>\n",
       "      <td>0.0</td>\n",
       "      <td>3857.0</td>\n",
       "      <td>30.0</td>\n",
       "      <td>1.0</td>\n",
       "      <td>0.0</td>\n",
       "    </tr>\n",
       "    <tr>\n",
       "      <th>997</th>\n",
       "      <td>1.0</td>\n",
       "      <td>2.0</td>\n",
       "      <td>1.0</td>\n",
       "      <td>0.0</td>\n",
       "      <td>2.0</td>\n",
       "      <td>804.0</td>\n",
       "      <td>12.0</td>\n",
       "      <td>5.0</td>\n",
       "      <td>0.0</td>\n",
       "    </tr>\n",
       "    <tr>\n",
       "      <th>998</th>\n",
       "      <td>1.0</td>\n",
       "      <td>2.0</td>\n",
       "      <td>0.0</td>\n",
       "      <td>0.0</td>\n",
       "      <td>0.0</td>\n",
       "      <td>1845.0</td>\n",
       "      <td>42.0</td>\n",
       "      <td>5.0</td>\n",
       "      <td>1.0</td>\n",
       "    </tr>\n",
       "    <tr>\n",
       "      <th>999</th>\n",
       "      <td>1.0</td>\n",
       "      <td>2.0</td>\n",
       "      <td>1.0</td>\n",
       "      <td>1.0</td>\n",
       "      <td>1.0</td>\n",
       "      <td>4576.0</td>\n",
       "      <td>42.0</td>\n",
       "      <td>1.0</td>\n",
       "      <td>2.0</td>\n",
       "    </tr>\n",
       "  </tbody>\n",
       "</table>\n",
       "<p>1000 rows × 9 columns</p>\n",
       "</div>"
      ],
      "text/plain": [
       "     Genero  Trabajo  Alojamiento  CuentasAhorro  CuentasCheques  \\\n",
       "0       1.0      2.0          1.0            2.0             0.0   \n",
       "1       0.0      2.0          1.0            0.0             1.0   \n",
       "2       1.0      2.0          1.0            0.0             2.0   \n",
       "3       1.0      2.0          0.0            0.0             0.0   \n",
       "4       1.0      2.0          0.0            0.0             0.0   \n",
       "..      ...      ...          ...            ...             ...   \n",
       "995     0.0      2.0          1.0            0.0             2.0   \n",
       "996     1.0      2.0          1.0            0.0             0.0   \n",
       "997     1.0      2.0          1.0            0.0             2.0   \n",
       "998     1.0      2.0          0.0            0.0             0.0   \n",
       "999     1.0      2.0          1.0            1.0             1.0   \n",
       "\n",
       "     CantidadSolicitada  Duracion  Proposito  GEdad  \n",
       "0                1169.0       6.0        5.0    3.0  \n",
       "1                5951.0      42.0        5.0    1.0  \n",
       "2                2096.0      12.0        3.0    0.0  \n",
       "3                7882.0      42.0        4.0    0.0  \n",
       "4                4870.0      24.0        1.0    0.0  \n",
       "..                  ...       ...        ...    ...  \n",
       "995              1736.0      12.0        4.0    2.0  \n",
       "996              3857.0      30.0        1.0    0.0  \n",
       "997               804.0      12.0        5.0    0.0  \n",
       "998              1845.0      42.0        5.0    1.0  \n",
       "999              4576.0      42.0        1.0    2.0  \n",
       "\n",
       "[1000 rows x 9 columns]"
      ]
     },
     "execution_count": 40,
     "metadata": {},
     "output_type": "execute_result"
    }
   ],
   "source": [
    "X = pd.DataFrame(df).astype(np.float)\n",
    "X"
   ]
  },
  {
   "cell_type": "code",
   "execution_count": 41,
   "metadata": {},
   "outputs": [
    {
     "data": {
      "text/plain": [
       "(1000, 9)"
      ]
     },
     "execution_count": 41,
     "metadata": {},
     "output_type": "execute_result"
    }
   ],
   "source": [
    "X.shape"
   ]
  },
  {
   "cell_type": "markdown",
   "metadata": {},
   "source": [
    "9 columnas seran utilizadas para predecir el riesgo del préstamo."
   ]
  },
  {
   "cell_type": "code",
   "execution_count": 42,
   "metadata": {},
   "outputs": [
    {
     "data": {
      "text/plain": [
       "array([[1],\n",
       "       [0],\n",
       "       [1],\n",
       "       [1],\n",
       "       [0],\n",
       "       [1],\n",
       "       [1],\n",
       "       [1],\n",
       "       [1],\n",
       "       [0]])"
      ]
     },
     "execution_count": 42,
     "metadata": {},
     "output_type": "execute_result"
    }
   ],
   "source": [
    "y # 0 y 1s representando el riesgo\n",
    "# Muestra\n",
    "y[:10]"
   ]
  },
  {
   "cell_type": "code",
   "execution_count": 43,
   "metadata": {},
   "outputs": [
    {
     "data": {
      "text/plain": [
       "array([1, 0, 1, 1, 0, 1, 1, 1, 1, 0])"
      ]
     },
     "execution_count": 43,
     "metadata": {},
     "output_type": "execute_result"
    }
   ],
   "source": [
    "y = y.ravel() #.ravel convierte el arreglod de datos a la forma (n, )\n",
    "y[:10]"
   ]
  },
  {
   "cell_type": "markdown",
   "metadata": {},
   "source": [
    "Se debe estandariza la matriz de características con StandardScaler, ya que normalizar los datos ayuda a no darle mayor peso a una característica sobre otra."
   ]
  },
  {
   "cell_type": "code",
   "execution_count": 44,
   "metadata": {},
   "outputs": [],
   "source": [
    "scaler = preprocessing.StandardScaler()\n",
    "X = scaler.fit_transform(X)"
   ]
  },
  {
   "cell_type": "markdown",
   "metadata": {},
   "source": [
    "# <a href=\"#0\"><font size=\"1\">Volver al inicio</font></a>\n",
    "\n",
    "# <a id=\"6\">6. Creación de modelos de predicción de riesgo</a>"
   ]
  },
  {
   "cell_type": "markdown",
   "metadata": {},
   "source": [
    "Modelos supervisados de clasificación utilizados:"
   ]
  },
  {
   "cell_type": "code",
   "execution_count": 45,
   "metadata": {},
   "outputs": [],
   "source": [
    "from sklearn.ensemble import GradientBoostingClassifier # Técnica de Aprendizaje Automático para problemas de clasificación.\n",
    "from sklearn.ensemble import RandomForestClassifier # En muchos problemas el rendimiento del algoritmo random forest es muy\n",
    "# similar a la del boosting, y es más simple de entrenar y ajustar.\n",
    "from sklearn import svm # Support Vector Machine,técnica de Aprendizaje Automático que clasifica en dos grupos los datos.\n",
    "from sklearn import neighbors # k-nearest neighbors algorithm, clasifica según el grupo de datos más cercano.\n",
    "from sklearn import linear_model # Realizar regresión logisttica para predecir verdadero o falso.\n",
    "\n",
    "from sklearn import ensemble # La meta de los métodos de ensamble es combinar las predicción de varios estimadores base dados \n",
    "# con cierto algoritmo de aprendizaje con el fin de mejorar la robustez y generalización sobre un solo estimador."
   ]
  },
  {
   "cell_type": "markdown",
   "metadata": {},
   "source": [
    "Luego se reparten los datos en datos de entrenamiento y prueba."
   ]
  },
  {
   "cell_type": "code",
   "execution_count": 46,
   "metadata": {},
   "outputs": [],
   "source": [
    "X_train, X_test, y_train, y_test = train_test_split(X, y, test_size=0.4, random_state=0)"
   ]
  },
  {
   "cell_type": "markdown",
   "metadata": {},
   "source": [
    "Utilizamos validación cruzada estratificada ya que los valores de respuesta no están balanceados. Mencionado en la revisión de los datos."
   ]
  },
  {
   "cell_type": "code",
   "execution_count": 47,
   "metadata": {},
   "outputs": [],
   "source": [
    "def stratified_cv(X, y, clf_class, shuffle=True, **kwargs):\n",
    "    skf = StratifiedKFold(n_splits=10, random_state=None, shuffle=False) \n",
    "    # Número de pliegues. Mínimo 2.\n",
    "    y_pred = y.copy()\n",
    "    # ii -> Entrenamiento\n",
    "    # jj -> Índices de prueba\n",
    "    for ii, jj in skf.split(X, y):\n",
    "        X_train, X_test = X[ii], X[jj]\n",
    "        y_train = y[ii]\n",
    "        clf = clf_class(**kwargs)\n",
    "        clf.fit(X_train,y_train)\n",
    "        y_pred[jj] = clf.predict(X_test)\n",
    "    return y_pred"
   ]
  },
  {
   "cell_type": "markdown",
   "metadata": {},
   "source": [
    "https://scikit-learn.org/stable/modules/cross_validation.html\n",
    "\n",
    "Cuando el argumento adicionado en cv es un entero, el método cross_val_score utiliza las estrategias KFold o StratifiedKFold por default. También es posible utilizar otras estrategias de validación cruzada pasando un iterador, ejemplo ShuffkeSplit (Luego de las conclusiones se utiliza este método en un espacio de prueba de los modelos)."
   ]
  },
  {
   "cell_type": "markdown",
   "metadata": {},
   "source": [
    "Evaluamos la precisión de los modelos supervisados de clasificación:"
   ]
  },
  {
   "cell_type": "code",
   "execution_count": 48,
   "metadata": {},
   "outputs": [
    {
     "name": "stdout",
     "output_type": "stream",
     "text": [
      "Gradient Boosting Classifier:  0.75\n",
      "Support vector machine(SVM):   0.74\n",
      "Random Forest Classifier:      0.73\n",
      "K Nearest Neighbor Classifier: 0.71\n",
      "Logistic Regression:           0.74\n"
     ]
    }
   ],
   "source": [
    "print('Gradient Boosting Classifier:  {:.2f}'.format(metrics.accuracy_score(y, stratified_cv(X, y, ensemble.GradientBoostingClassifier))))\n",
    "print('Support vector machine(SVM):   {:.2f}'.format(metrics.accuracy_score(y, stratified_cv(X, y, svm.SVC))))\n",
    "print('Random Forest Classifier:      {:.2f}'.format(metrics.accuracy_score(y, stratified_cv(X, y, ensemble.RandomForestClassifier))))\n",
    "print('K Nearest Neighbor Classifier: {:.2f}'.format(metrics.accuracy_score(y, stratified_cv(X, y, neighbors.KNeighborsClassifier))))\n",
    "print('Logistic Regression:           {:.2f}'.format(metrics.accuracy_score(y, stratified_cv(X, y, linear_model.LogisticRegression))))"
   ]
  },
  {
   "cell_type": "markdown",
   "metadata": {},
   "source": [
    "# <a href=\"#0\"><font size=\"1\">Volver al inicio</font></a>\n",
    "\n",
    "# <a id=\"7\">7. Evaluacion y predicción</a>\n",
    "\n",
    "### <font size=\"4\">7.1. Matrices de confusion para varios modelos</font></a>"
   ]
  },
  {
   "cell_type": "markdown",
   "metadata": {},
   "source": [
    "Las matrices de confusión o de error, son utilizadas en aprendizaje automático para la revisión de las métricas de los modelos: accuracy o exactitud, recall o exhaustividad, precision o precisión, f1 score o valor F.\n",
    "\n",
    "La métrica de precisión podemos medir la calidad del modelo de machine learning en tareas de clasificación. Corresponde a la cantidad de Positivos Verdaderos dividido entre Positivos Verdaderos más Positivos Falsos. \n",
    "\n",
    "Por su parte, métrica de exhaustividad nos va a informar sobre la cantidad que el modelo de machine learning es capaz de identificar. Misma formula que la de precisión pero en vez de Positivos Falsos es Negativos Falsos. "
   ]
  },
  {
   "cell_type": "markdown",
   "metadata": {},
   "source": [
    "El valor F1 se utiliza para combinar las medidas de precision y recall en un sólo valor. Esto es práctico porque hace más fácil el poder comparar el rendimiento combinado de la precisión y la exhaustividad entre varias soluciones. F1 se calcula haciendo la media armónica entre la precisión y la exhaustividad: F1 = 2*precision*recall/(precision+recall)\n",
    "\n",
    "El valor F1 asume que nos importa de igual forma la precisión y la exhaustividad. \n",
    "\n",
    "Finalmente, la exactitud (accuracy) mide el porcentaje de casos que el modelo ha acertado: accuracy = TP+TN /(TP+TN+FP+FN)\n",
    "\n",
    "TP True Positives TN True Negatives FP False Positives FN False Negatives\n",
    "\n",
    "Nota: La métrica accuracy (exactitud) no funciona bien cuando las clases están desbalanceadas, por ello se realizo validación cruzada."
   ]
  },
  {
   "cell_type": "code",
   "execution_count": 49,
   "metadata": {},
   "outputs": [
    {
     "data": {
      "image/png": "[encoded data removed]",
      "text/plain": [
       "<Figure size 432x288 with 2 Axes>"
      ]
     },
     "metadata": {
      "needs_background": "light"
     },
     "output_type": "display_data"
    }
   ],
   "source": [
    "grad_ens_conf_matrix = metrics.confusion_matrix(y, stratified_cv(X, y, ensemble.GradientBoostingClassifier))\n",
    "sns.heatmap(grad_ens_conf_matrix, annot=True,  fmt='');\n",
    "title = 'Gradient Boosting'\n",
    "plt.title(title);"
   ]
  },
  {
   "cell_type": "code",
   "execution_count": 50,
   "metadata": {},
   "outputs": [
    {
     "data": {
      "image/png": "[encoded data removed]",
      "text/plain": [
       "<Figure size 432x288 with 2 Axes>"
      ]
     },
     "metadata": {
      "needs_background": "light"
     },
     "output_type": "display_data"
    }
   ],
   "source": [
    "svm_svc_conf_matrix = metrics.confusion_matrix(y, stratified_cv(X, y, svm.SVC))\n",
    "sns.heatmap(svm_svc_conf_matrix, annot=True,  fmt='');\n",
    "title = 'SVM'\n",
    "plt.title(title);"
   ]
  },
  {
   "cell_type": "code",
   "execution_count": 51,
   "metadata": {},
   "outputs": [
    {
     "data": {
      "image/png": "[encoded data removed]",
      "text/plain": [
       "<Figure size 432x288 with 2 Axes>"
      ]
     },
     "metadata": {
      "needs_background": "light"
     },
     "output_type": "display_data"
    }
   ],
   "source": [
    "random_forest_conf_matrix = metrics.confusion_matrix(y, stratified_cv(X, y, ensemble.RandomForestClassifier))\n",
    "sns.heatmap(random_forest_conf_matrix, annot=True,  fmt='');\n",
    "title = 'Random Forest'\n",
    "plt.title(title);"
   ]
  },
  {
   "cell_type": "code",
   "execution_count": 52,
   "metadata": {},
   "outputs": [
    {
     "data": {
      "image/png": "[encoded data removed]",
      "text/plain": [
       "<Figure size 432x288 with 2 Axes>"
      ]
     },
     "metadata": {
      "needs_background": "light"
     },
     "output_type": "display_data"
    }
   ],
   "source": [
    "k_neighbors_conf_matrix   = metrics.confusion_matrix(y, stratified_cv(X, y, neighbors.KNeighborsClassifier))\n",
    "sns.heatmap(k_neighbors_conf_matrix, annot=True,  fmt='');\n",
    "title = 'KNN'\n",
    "plt.title(title);"
   ]
  },
  {
   "cell_type": "code",
   "execution_count": 53,
   "metadata": {},
   "outputs": [
    {
     "data": {
      "image/png": "[encoded data removed]",
      "text/plain": [
       "<Figure size 432x288 with 2 Axes>"
      ]
     },
     "metadata": {
      "needs_background": "light"
     },
     "output_type": "display_data"
    }
   ],
   "source": [
    "logistic_reg_conf_matrix  = metrics.confusion_matrix(y, stratified_cv(X, y, linear_model.LogisticRegression))\n",
    "sns.heatmap(logistic_reg_conf_matrix, annot=True,  fmt='');\n",
    "title = 'Logistic Regression'\n",
    "plt.title(title);"
   ]
  },
  {
   "cell_type": "markdown",
   "metadata": {},
   "source": [
    "Reporte de métricas:"
   ]
  },
  {
   "cell_type": "code",
   "execution_count": 54,
   "metadata": {},
   "outputs": [
    {
     "name": "stdout",
     "output_type": "stream",
     "text": [
      "Gradient Boosting Classifier:\n",
      "               precision    recall  f1-score   support\n",
      "\n",
      "           0       0.61      0.45      0.52       300\n",
      "           1       0.79      0.88      0.83       700\n",
      "\n",
      "    accuracy                           0.75      1000\n",
      "   macro avg       0.70      0.66      0.67      1000\n",
      "weighted avg       0.73      0.75      0.74      1000\n",
      "\n",
      "\n",
      "Support vector machine(SVM):\n",
      "               precision    recall  f1-score   support\n",
      "\n",
      "           0       0.62      0.31      0.41       300\n",
      "           1       0.76      0.92      0.83       700\n",
      "\n",
      "    accuracy                           0.74      1000\n",
      "   macro avg       0.69      0.61      0.62      1000\n",
      "weighted avg       0.72      0.74      0.70      1000\n",
      "\n",
      "\n",
      "Random Forest Classifier:\n",
      "               precision    recall  f1-score   support\n",
      "\n",
      "           0       0.56      0.41      0.48       300\n",
      "           1       0.77      0.86      0.82       700\n",
      "\n",
      "    accuracy                           0.73      1000\n",
      "   macro avg       0.67      0.64      0.65      1000\n",
      "weighted avg       0.71      0.73      0.71      1000\n",
      "\n",
      "\n",
      "K Nearest Neighbor Classifier:\n",
      "               precision    recall  f1-score   support\n",
      "\n",
      "           0       0.52      0.36      0.42       300\n",
      "           1       0.76      0.86      0.81       700\n",
      "\n",
      "    accuracy                           0.71      1000\n",
      "   macro avg       0.64      0.61      0.61      1000\n",
      "weighted avg       0.69      0.71      0.69      1000\n",
      "\n",
      "\n",
      "Logistic Regression:\n",
      "               precision    recall  f1-score   support\n",
      "\n",
      "           0       0.60      0.36      0.45       300\n",
      "           1       0.77      0.90      0.83       700\n",
      "\n",
      "    accuracy                           0.74      1000\n",
      "   macro avg       0.68      0.63      0.64      1000\n",
      "weighted avg       0.72      0.74      0.71      1000\n",
      "\n",
      "\n"
     ]
    }
   ],
   "source": [
    "print('Gradient Boosting Classifier:\\n {}\\n'.format(metrics.classification_report(y, stratified_cv(X, y, ensemble.GradientBoostingClassifier))))\n",
    "print('Support vector machine(SVM):\\n {}\\n'.format(metrics.classification_report(y, stratified_cv(X, y, svm.SVC))))\n",
    "print('Random Forest Classifier:\\n {}\\n'.format(metrics.classification_report(y, stratified_cv(X, y, ensemble.RandomForestClassifier))))\n",
    "print('K Nearest Neighbor Classifier:\\n {}\\n'.format(metrics.classification_report(y, stratified_cv(X, y, neighbors.KNeighborsClassifier))))\n",
    "print('Logistic Regression:\\n {}\\n'.format(metrics.classification_report(y, stratified_cv(X, y, linear_model.LogisticRegression))))"
   ]
  },
  {
   "cell_type": "markdown",
   "metadata": {},
   "source": [
    "Según el reporte métricas el modelo supervisado de clasificación que mejor desempeño tiene es el GBC o Gradient Boosting Classifier, ya que es el que mejor clasifica los valores recibidos **79% de predicción de los datos de validación**. \n",
    "\n",
    "El modelo de Support Vector Machine también se desempeña muy bien y posee el mayor recall de todos, es decir, es el modelo que más items relevantes encuentra."
   ]
  },
  {
   "cell_type": "markdown",
   "metadata": {},
   "source": [
    "# <a href=\"#0\"><font size=\"1\">Volver al inicio</font></a>\n",
    "\n",
    "### <font size=\"4\">7.2. Importancia por característica para el clasificador.</font></a>"
   ]
  },
  {
   "cell_type": "code",
   "execution_count": 55,
   "metadata": {},
   "outputs": [
    {
     "data": {
      "text/plain": [
       "GradientBoostingClassifier()"
      ]
     },
     "execution_count": 55,
     "metadata": {},
     "output_type": "execute_result"
    }
   ],
   "source": [
    "gbc = ensemble.GradientBoostingClassifier()\n",
    "gbc.fit(X, y)"
   ]
  },
  {
   "cell_type": "code",
   "execution_count": 56,
   "metadata": {},
   "outputs": [
    {
     "name": "stdout",
     "output_type": "stream",
     "text": [
      "[0.01426174 0.         0.0279206  0.08323353 0.27694376 0.32768167\n",
      " 0.16989654 0.05678793 0.04327423]\n"
     ]
    },
    {
     "data": {
      "text/plain": [
       "<AxesSubplot:>"
      ]
     },
     "execution_count": 56,
     "metadata": {},
     "output_type": "execute_result"
    },
    {
     "data": {
      "image/png": "[encoded data removed]",
      "text/plain": [
       "<Figure size 504x504 with 1 Axes>"
      ]
     },
     "metadata": {
      "needs_background": "light"
     },
     "output_type": "display_data"
    }
   ],
   "source": [
    "feature_importance = gbc.feature_importances_\n",
    "print (gbc.feature_importances_)\n",
    "feat_importances = pd.Series(gbc.feature_importances_, index=df.columns)\n",
    "feat_importances = feat_importances.nlargest(9)\n",
    "feat_importances.plot(kind='barh' , figsize=(7,7)) "
   ]
  },
  {
   "cell_type": "markdown",
   "metadata": {},
   "source": [
    "**Las características más importantes para la predicción fueron:**\n",
    "\n",
    "Cantidad Solicitada por el prestatario - 33%\n",
    "\n",
    "Cuentas de Cheques - 28%\n",
    "\n",
    "Duración del préstamo - 17%"
   ]
  },
  {
   "cell_type": "markdown",
   "metadata": {},
   "source": [
    "# <a href=\"#0\"><font size=\"1\">Volver al inicio</font></a>\n",
    "\n",
    "# <a id=\"8\">8. Simulación del nivel de riesgo</a>\n"
   ]
  },
  {
   "cell_type": "code",
   "execution_count": 68,
   "metadata": {},
   "outputs": [
    {
     "name": "stdout",
     "output_type": "stream",
     "text": [
      "Bienvenido al simulador de riesgo crediticio por favor responda a las siguientes preguntas: \n",
      "¿Cuál es su género? 0 para Femenino y 1 para Masculino 0\n",
      "\n",
      "¿Cuál es su tipo de vivienda? 0 para Gratuita, 1 para Propia y 2 para Arrendada 2\n",
      "\n",
      "¿El valor de sus cuentas de ahorro es? 0 para Poco, 1 para Moderado, 2 para No posee, 3 para Acomodado y 4 para Adinerado 2\n",
      "\n",
      "¿El valor de sus cuentas de cheques es? 0 para Poco, 1 para Moderado, 2 para No posee y 3 para Adinerado 2\n",
      "\n",
      "¿Cuál es el valor del préstamo que quiere realizar? Escriba un valor en EUR entre 250 a 20.000 250\n",
      "\n",
      "¿Por cuánto tiempo hará el préstamo? Escriba un valor en meses entre 4 a 72 12\n",
      "\n",
      "¿Cuál es el propósito de uso para el préstamo? 0 Negocios, 1 Carro, 2 Vacaciones, 3 Educación, 4 Renovación Hogar y 5 TV/radio/entre otros 1\n",
      "\n",
      "¿En cuál grupo se encuentra referente a su edad? 36-60: Marque 0 18-25: Marque 1, 26-35: Marque 2, 60++: Marque 3 2\n"
     ]
    }
   ],
   "source": [
    "g = int(input('Bienvenido al simulador de riesgo crediticio por favor responda a las siguientes preguntas: \\n¿Cuál es su género? 0 para Femenino y 1 para Masculino '))\n",
    "a = int(input('\\n¿Cuál es su tipo de vivienda? 0 para Gratuita, 1 para Propia y 2 para Arrendada '))\n",
    "ca = int(input('\\n¿El valor de sus cuentas de ahorro es? 0 para Poco, 1 para Moderado, 2 para No posee, 3 para Acomodado y 4 para Adinerado '))\n",
    "cc = int(input('\\n¿El valor de sus cuentas de cheques es? 0 para Poco, 1 para Moderado, 2 para No posee y 3 para Adinerado '))\n",
    "cs = int(input('\\n¿Cuál es el valor del préstamo que quiere realizar? Escriba un valor en EUR entre 250 a 20.000 '))\n",
    "d = int(input('\\n¿Por cuánto tiempo hará el préstamo? Escriba un valor en meses entre 4 a 72 '))\n",
    "p = int(input('\\n¿Cuál es el propósito de uso para el préstamo? 0 Negocios, 1 Carro, 2 Vacaciones, 3 Educación, 4 Renovación Hogar y 5 TV/radio/entre otros '))\n",
    "ge = int(input('\\n¿En cuál grupo se encuentra referente a su edad? 36-60: Marque 0 18-25: Marque 1, 26-35: Marque 2, 60++: Marque 3 ')) "
   ]
  },
  {
   "cell_type": "code",
   "execution_count": 69,
   "metadata": {},
   "outputs": [],
   "source": [
    "respuesta = [g,0,a,ca,cc,cs,d,p,ge]\n",
    "Juan = np.array([1, 0, 1, 2, 2, 16000, 32, 5, 0])\n",
    "Carolina = np.array([0, 0, 1, 0, 2, 2000, 70, 0, 1])\n",
    "Tu = np.array(respuesta)"
   ]
  },
  {
   "cell_type": "code",
   "execution_count": 70,
   "metadata": {},
   "outputs": [
    {
     "data": {
      "text/plain": [
       "array([[    1,     0,     1,     2,     2, 16000,    32,     5,     0],\n",
       "       [    0,     0,     1,     0,     2,  2000,    70,     0,     1],\n",
       "       [    0,     0,     2,     2,     2,   250,    12,     1,     2]])"
      ]
     },
     "execution_count": 70,
     "metadata": {},
     "output_type": "execute_result"
    }
   ],
   "source": [
    "prestatarios_muestra = np.array([Juan,Carolina,Tu])\n",
    "prestatarios_muestra"
   ]
  },
  {
   "cell_type": "code",
   "execution_count": 71,
   "metadata": {},
   "outputs": [
    {
     "name": "stdout",
     "output_type": "stream",
     "text": [
      "[1 0 1]\n",
      "[[0.15642535 0.84357465]\n",
      " [0.51835033 0.48164967]\n",
      " [0.08341281 0.91658719]]\n"
     ]
    }
   ],
   "source": [
    "prestatarios_muestra = scaler.transform(prestatarios_muestra)\n",
    "print(gbc.predict(prestatarios_muestra))\n",
    "print(gbc.predict_proba(prestatarios_muestra))"
   ]
  },
  {
   "cell_type": "markdown",
   "metadata": {},
   "source": [
    "Para el grupo de prestatarios analizado el modelo predice que Carolina tiene un 52% de probabilidad de ser una mala prestataria. Mientras que Juan tiene un 84% de probabilidad de ser bueno."
   ]
  },
  {
   "cell_type": "markdown",
   "metadata": {},
   "source": [
    "# <a href=\"#0\"><font size=\"1\">Volver al inicio</font></a>\n",
    "\n",
    "# <a id=\"9\">9. Conclusiones</a>"
   ]
  },
  {
   "cell_type": "markdown",
   "metadata": {},
   "source": [
    "El programa permite evaluar distintas características y mediante ellas caracterizar un cliente en bueno o malo, lo que ayudaría a mejorar el desempeño de los préstamos en la compañía.\n",
    "\n",
    "Los cinco modelos utilizados tuvieron buenas métricas pero resaltaron en su desempeño Gradiente Boosting Classifier (GBC) y Support Vector Machine (SVM). Esto se explica en las gráficas ya que era claro la diferencia en las distribuciones, lo que permitia clasificar más fácil según los registros.\n",
    "\n",
    "Es importante resaltar que entre más cantidad de datos y más características se tengan de los induviduos se puede fortalecer aún más el modelo. Estas características se pueden generar mediante una mezcla o relacionamiento de las características actuales."
   ]
  }
 ],
 "metadata": {
  "kernelspec": {
   "display_name": "Python 3",
   "language": "python",
   "name": "python3"
  },
  "language_info": {
   "codemirror_mode": {
    "name": "ipython",
    "version": 3
   },
   "file_extension": ".py",
   "mimetype": "text/x-python",
   "name": "python",
   "nbconvert_exporter": "python",
   "pygments_lexer": "ipython3",
   "version": "3.8.5"
  }
 },
 "nbformat": 4,
 "nbformat_minor": 4
}
